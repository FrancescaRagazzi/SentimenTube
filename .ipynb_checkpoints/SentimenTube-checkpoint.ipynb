{
 "cells": [
  {
   "cell_type": "markdown",
   "metadata": {
    "slideshow": {
     "slide_type": "slide"
    }
   },
   "source": [
    "<h1> SentimenTube </h1>\n",
    "<br>\n",
    "<br>\n",
    "<h3> Progetto Tap 2023 </h3>\n",
    "<h3>Prof. Salvatore Nicotra </h3>\n",
    "<h3> Francesca Ragazzi</h3>"
   ]
  },
  {
   "cell_type": "markdown",
   "metadata": {
    "slideshow": {
     "slide_type": "slide"
    }
   },
   "source": [
    "<img src=\"images/1.png\"  alt = \"SentimenTube\" style=\"width: 5000px;\" align=\"center\" />\n"
   ]
  },
  {
   "cell_type": "markdown",
   "metadata": {
    "slideshow": {
     "slide_type": "slide"
    }
   },
   "source": [
    "<img src=\"images/last.png\" align=\"center\" />"
   ]
  },
  {
   "cell_type": "markdown",
   "metadata": {
    "slideshow": {
     "slide_type": "slide"
    }
   },
   "source": [
    "<h2> Come vengono recuperati i dati? </h2>\n",
    "\n",
    "<img src=\"images/producer.png\"/>"
   ]
  },
  {
   "cell_type": "markdown",
   "metadata": {
    "slideshow": {
     "slide_type": "subslide"
    }
   },
   "source": [
    "<h2> Videos</h2>\n",
    "\n",
    "<p>\n",
    "    \n",
    "```\n",
    "youtube = googleapiclient.discovery.build(\"youtube\", \"v3\", developerKey=api_key)\n",
    "\n",
    "request_videos = youtube.videos().list(\n",
    "    part=\"snippet,statistics\",\n",
    "    chart=\"mostPopular\",\n",
    "    maxResults=200\n",
    ")\n",
    "\n",
    "response_videos = request_videos.execute()\n",
    "```\n",
    "    \n",
    "</p>"
   ]
  },
  {
   "cell_type": "markdown",
   "metadata": {
    "slideshow": {
     "slide_type": "subslide"
    }
   },
   "source": [
    "<h2> Comments </h2>\n",
    "\n",
    "<p>\n",
    "    \n",
    "```\n",
    "    \n",
    "request_comments = youtube.commentThreads().list( \n",
    "    part=\"snippet\",\n",
    "    videoId=video_id, \n",
    "    maxResults=20,\n",
    "    order=\"relevance\"\n",
    ")\n",
    "    \n",
    "```\n",
    "</p>"
   ]
  },
  {
   "cell_type": "markdown",
   "metadata": {
    "slideshow": {
     "slide_type": "slide"
    }
   },
   "source": [
    "<h2> Come arrivano i dati su Kafka? </h2>"
   ]
  },
  {
   "cell_type": "markdown",
   "metadata": {
    "slideshow": {
     "slide_type": "fragment"
    }
   },
   "source": [
    "<img src=\"images/logstash.png\"  alt = \"SentimenTube\" style=\"width: 200px;\" align=\"center\" />"
   ]
  },
  {
   "cell_type": "markdown",
   "metadata": {
    "slideshow": {
     "slide_type": "fragment"
    }
   },
   "source": [
    "<b> Logstash è uno strumento open-source progettato per la raccolta, l'elaborazione e l'invio di dati e log provenienti da diverse fonti per l'analisi. </b>\n",
    "\n",
    "<p>\n",
    "    \n",
    "- Raccolta dei dati\n",
    "\n",
    "- Elaborazione dei dati\n",
    "\n",
    "- Output dei dati\n",
    "</p>"
   ]
  },
  {
   "cell_type": "markdown",
   "metadata": {
    "slideshow": {
     "slide_type": "subslide"
    }
   },
   "source": [
    "<h2> Configurazione Logstash </h2>\n",
    "<p>\n",
    "    \n",
    "```\n",
    "input {\n",
    "  tcp {\n",
    "    port => 9800 \n",
    "    codec => json\n",
    "  }\n",
    "}\n",
    "output {\n",
    "   stdout {\n",
    "     codec => rubydebug\n",
    "   }\n",
    "   kafka {\n",
    "    codec => json\n",
    "    topic_id => \"videos\"\n",
    "    bootstrap_servers => \"10.0.100.23:9092\"\n",
    "  }\n",
    "}\n",
    "\n",
    "```\n",
    " </p>"
   ]
  },
  {
   "cell_type": "markdown",
   "metadata": {
    "slideshow": {
     "slide_type": "slide"
    }
   },
   "source": [
    "<h2> Cos'è Kafka ? </h2>\n",
    "<p>\n",
    "Kafka è una piattaforma open-source di streaming e messaggistica che consente la gestione affidabile e scalabile di flussi di dati in tempo reale ed è basato sul design pattern \"Publish-Subscribe\"\n",
    "</p>"
   ]
  },
  {
   "cell_type": "markdown",
   "metadata": {
    "slideshow": {
     "slide_type": "fragment"
    }
   },
   "source": [
    "<p>\n",
    "    \n",
    " - Piattaforma di streaming e messaggistica\n",
    "\n",
    " - Trasmissione di grandi volumi di dati\n",
    "\n",
    " - Alta velocità di elaborazione\n",
    "\n",
    " - Integrazione con tecnologie e stack di dati\n",
    "    \n",
    "</p>"
   ]
  },
  {
   "cell_type": "markdown",
   "metadata": {
    "slideshow": {
     "slide_type": "subslide"
    }
   },
   "source": [
    "<img src=\"images/kafka.png\"  width=\"150\" align=\"center\"/>\n",
    "<h3> I concetti chiave di Apache Kafka includono: </h3>\n",
    "\n",
    "<p><b> Producer:</b>È un'applicazione o un servizio che invia i messaggi a uno o più topic di Kafka. I produttori sono responsabili della pubblicazione dei dati nel sistema. </p>\n",
    "\n",
    "<p><b> Consumer: </b> È un'applicazione o un servizio che legge i messaggi dai topic a cui si è sottoscritto.</p>\n",
    "\n",
    "<b> Topic: </b>È un canale logico o una categoria a cui i messaggi vengono pubblicati e dai quali i consumatori ricevono i dati. I topic consentono la suddivisione dei dati in base al tipo o al contenuto. <p>\n",
    "\n",
    "<p><b> Broker: </b>È un nodo all'interno del cluster di Kafka. I broker sono responsabili della ricezione, dell'archiviazione e dell'inoltro dei messaggi ai consumatori appropriati. <p>\n",
    "\n",
    "<p> <b> ZooKeeper </b> : Kafka utilizza ZooKeeper per il coordinamento e la gestione del cluster.</p>"
   ]
  },
  {
   "cell_type": "markdown",
   "metadata": {
    "slideshow": {
     "slide_type": "subslide"
    }
   },
   "source": [
    "<h3> Zookeeper </h3>\n",
    " \n",
    "<p>\n",
    "    \n",
    "```\n",
    "    \n",
    "zookeeper:\n",
    "image: confluentinc/cp-zookeeper:7.0.1\n",
    "container_name: zookeeper\n",
    "environment:\n",
    "  ZOOKEEPER_CLIENT_PORT: 2181 \n",
    "  ZOOKEEPER_TICK_TIME: 2000\n",
    "networks:\n",
    "  tap:\n",
    "    ipv4_address: 10.0.100.22\n",
    "    \n",
    "```\n",
    "    \n",
    "</p>"
   ]
  },
  {
   "cell_type": "markdown",
   "metadata": {
    "slideshow": {
     "slide_type": "subslide"
    }
   },
   "source": [
    "<h3> Broker </h3>\n",
    "<p>\n",
    "    \n",
    "```\n",
    "    \n",
    "  broker:\n",
    "    image: confluentinc/cp-kafka:7.0.1\n",
    "    container_name: broker\n",
    "    hostname: broker\n",
    "    ports:\n",
    "      - 9092:9092\n",
    "    networks:\n",
    "      tap:\n",
    "        ipv4_address: 10.0.100.23\n",
    "    depends_on:\n",
    "      - zookeeper\n",
    "    environment:\n",
    "      KAFKA_BROKER_ID: 1\n",
    "      KAFKA_ZOOKEEPER_CONNECT: 'zookeeper:2181'\n",
    "      KAFKA_ADVERTISED_LISTENERS: PLAINTEXT://broker:9092\n",
    "      KAFKA_OFFSETS_TOPIC_REPLICATION_FACTOR: 1\n",
    "      KAFKA_TRANSACTION_STATE_LOG_MIN_ISR: 1\n",
    "      KAFKA_TRANSACTION_STATE_LOG_REPLICATION_FACTOR: 1\n",
    "    \n",
    "```\n",
    "    \n",
    "</p>"
   ]
  },
  {
   "cell_type": "markdown",
   "metadata": {
    "slideshow": {
     "slide_type": "subslide"
    }
   },
   "source": [
    "<h3> Kafka-ui </h3>\n",
    " \n",
    "<p>\n",
    "    \n",
    "```\n",
    "    \n",
    "   kafka-ui:\n",
    "    image: provectuslabs/kafka-ui:latest\n",
    "    container_name: kafka-ui\n",
    "    depends_on:\n",
    "      - zookeeper\n",
    "      - broker\n",
    "    ports:\n",
    "      - 8080:8080\n",
    "    networks:\n",
    "      tap:\n",
    "        ipv4_address: 10.0.100.24\n",
    "    restart: always\n",
    "    environment:\n",
    "      KAFKA_CLUSTERS_0_NAME: local\n",
    "      KAFKA_CLUSTERS_0_BOOTSTRAPSERVERS: broker:9092\n",
    "      KAFKA_CLUSTERS_0_ZOOKEEPER: zookeeper:2181\n",
    "    \n",
    "```\n",
    "    \n",
    "</p>"
   ]
  },
  {
   "cell_type": "markdown",
   "metadata": {
    "slideshow": {
     "slide_type": "subslide"
    }
   },
   "source": [
    "<h3> Init-Kafka </h3>\n",
    "\n",
    "<p>\n",
    "    \n",
    "```\n",
    "    \n",
    "init-kafka:\n",
    "    image: confluentinc/cp-kafka:7.0.1\n",
    "    depends_on:\n",
    "      - broker\n",
    "      - zookeeper\n",
    "      - kafka-ui\n",
    "    entrypoint: [ '/bin/sh', '-c' ]\n",
    "    command: |\n",
    "      \"\n",
    "      # Wait for the broker to be available\n",
    "      while ! nc -z broker 9092; do   \n",
    "        echo 'Waiting for the broker to be available...'\n",
    "        sleep 1\n",
    "      done\n",
    "\n",
    "      # blocks until kafka is reachable\n",
    "      kafka-topics --bootstrap-server broker:9092 --list\n",
    "\n",
    "      echo -e 'Creating kafka topics'\n",
    "      kafka-topics --bootstrap-server broker:9092 --create --if-not-exists --topic videos --replication-factor 1 --partitions 1\n",
    "\n",
    "      echo -e 'Successfully created the following topics:'\n",
    "      kafka-topics --bootstrap-server broker:9092 --list\n",
    "      \"\n",
    "    networks:\n",
    "      tap:\n",
    "        ipv4_address: 10.0.100.25\n",
    "    \n",
    "\n",
    "```\n",
    "    \n",
    "</p>"
   ]
  },
  {
   "cell_type": "markdown",
   "metadata": {
    "slideshow": {
     "slide_type": "slide"
    }
   },
   "source": [
    "<h2> Come vengono elaborati i dati? </h2>"
   ]
  },
  {
   "cell_type": "markdown",
   "metadata": {
    "slideshow": {
     "slide_type": "fragment"
    }
   },
   "source": [
    "<img src=\"images/spark.png\"  width=\"150\" align=\"center\"/> \n",
    "<img src=\"images/nltk.png\"  width=\"100\" align=\"center\"/> "
   ]
  },
  {
   "cell_type": "markdown",
   "metadata": {
    "slideshow": {
     "slide_type": "fragment"
    }
   },
   "source": [
    "<p>\n",
    "Apache Spark è un framework open-source di elaborazione di dati distribuita progettato per l'analisi, e l'elaborazione di grandi quantità di dati in modo rapido e scalabile. Offre un'interfaccia di programmazione semplice per lavorare con dati strutturati e non strutturati, consentendo di eseguire operazioni di analisi, elaborazione e apprendimento automatico su cluster di computer in modo efficiente.\n",
    "</p>\n"
   ]
  },
  {
   "cell_type": "markdown",
   "metadata": {
    "slideshow": {
     "slide_type": "fragment"
    }
   },
   "source": [
    "<p>\n",
    "Il Natural Language Toolkit, più comunemente conosciuto come NLTK, è una suite di librerie e programmi per l'analisi simbolica e statistica nel campo dell'elaborazione del linguaggio naturale principalmente in lingua inglese scritta in linguaggio Python.\n",
    "</p>"
   ]
  },
  {
   "cell_type": "markdown",
   "metadata": {
    "slideshow": {
     "slide_type": "subslide"
    }
   },
   "source": [
    "<h2> Take data from Kafka </h2>\n",
    "\n",
    "<p>\n",
    "    \n",
    "```\n",
    "kafka_df = spark.readStream \\\n",
    "    .format(\"kafka\") \\\n",
    "    .option(\"kafka.bootstrap.servers\", kafka_server) \\\n",
    "    .option(\"subscribe\", \"videos\") \\\n",
    "    .load()\n",
    "  \n",
    "\n",
    "```\n",
    "    \n",
    "</p>"
   ]
  },
  {
   "cell_type": "markdown",
   "metadata": {
    "slideshow": {
     "slide_type": "subslide"
    }
   },
   "source": [
    "<h2> Sentiment Analysis </h2>\n",
    "\n",
    "<p>\n",
    "    \n",
    "```\n",
    "sia = SentimentIntensityAnalyzer()   \n",
    "\n",
    "    \n",
    "def calculate_comment_sentiment(comment):\n",
    "    if comment:\n",
    "        sentiment_scores = [sia.polarity_scores(c)[\"compound\"] for c in comment]\n",
    "        return sentiment_scores\n",
    "    else:\n",
    "        return None\n",
    "```\n",
    "    \n",
    "</p>"
   ]
  },
  {
   "cell_type": "markdown",
   "metadata": {
    "slideshow": {
     "slide_type": "subslide"
    }
   },
   "source": [
    "<h2> Send to elasticsearch </h2>\n",
    "\n",
    "<p>\n",
    "    \n",
    "```\n",
    "def write_to_elasticsearch(df):\n",
    "    es = Elasticsearch(f\"{elasticsearch_host}:{elasticsearch_port}\", verify_certs=False)\n",
    "    df.write \\\n",
    "        .format(\"org.elasticsearch.spark.sql\") \\\n",
    "        .option(\"es.resource\", elasticsearch_index) \\\n",
    "        .option(\"es.nodes\", elasticsearch_host) \\\n",
    "        .option(\"es.port\", elasticsearch_port) \\\n",
    "        .option(\"es.index.auto.create\", \"true\") \\\n",
    "        .mode(\"append\") \\\n",
    "        .save()\n",
    "\n",
    "```\n",
    "    \n",
    "</p>"
   ]
  },
  {
   "cell_type": "markdown",
   "metadata": {
    "slideshow": {
     "slide_type": "slide"
    }
   },
   "source": [
    "<h2> Come vengono indicizzati i dati? </h2>"
   ]
  },
  {
   "cell_type": "markdown",
   "metadata": {
    "slideshow": {
     "slide_type": "fragment"
    }
   },
   "source": [
    "<img src=\"images/elasticksearch.png\"  width=\"200\"/> "
   ]
  },
  {
   "cell_type": "markdown",
   "metadata": {
    "slideshow": {
     "slide_type": "fragment"
    }
   },
   "source": [
    "<p>\n",
    "Elasticsearch è un motore di ricerca distribuito potente e flessibile, utilizzato per l'elaborazione di grandi quantità di dati non strutturati e la creazione di sistemi di ricerca e analisi dei dati in tempo reale.\n",
    "</p>"
   ]
  },
  {
   "cell_type": "markdown",
   "metadata": {
    "slideshow": {
     "slide_type": "slide"
    }
   },
   "source": [
    "<h2> Come vengono visualizzati i dati? </h2>"
   ]
  },
  {
   "cell_type": "markdown",
   "metadata": {
    "slideshow": {
     "slide_type": "fragment"
    }
   },
   "source": [
    "<img src=\"images/kibana.png\"  width=\"200\"/> "
   ]
  },
  {
   "cell_type": "markdown",
   "metadata": {
    "slideshow": {
     "slide_type": "fragment"
    }
   },
   "source": [
    "<p>\n",
    "Kibana è un'applicazione web open-source di visualizzazione e analisi dei dati, progettata per lavorare in combinazione con Elasticsearch. Consente agli utenti di creare grafici, dashboard e riepiloghi interattivi per esplorare e comprendere i dati archiviati in Elasticsearch.\n",
    "</p>"
   ]
  },
  {
   "cell_type": "markdown",
   "metadata": {
    "slideshow": {
     "slide_type": "subslide"
    }
   },
   "source": [
    "<img src=\"images/v1.png\"  height=\"300\"/> \n",
    "<img src=\"images/v2.png\"  height=\"300\"/> "
   ]
  },
  {
   "cell_type": "markdown",
   "metadata": {
    "slideshow": {
     "slide_type": "slide"
    }
   },
   "source": [
    "<h2> Come avviare SentimenTube? </h2>\n"
   ]
  },
  {
   "cell_type": "markdown",
   "metadata": {
    "slideshow": {
     "slide_type": "subslide"
    }
   },
   "source": [
    "<img src=\"images/memedocker.png\"  width=\"500\"/> "
   ]
  },
  {
   "cell_type": "markdown",
   "metadata": {
    "slideshow": {
     "slide_type": "subslide"
    }
   },
   "source": [
    "<img src=\"images/dockercompose.png\"  width=\"200\"/> "
   ]
  },
  {
   "cell_type": "markdown",
   "metadata": {
    "slideshow": {
     "slide_type": "fragment"
    }
   },
   "source": [
    "<p> Docker Compose è uno strumento che permette di definire e gestire applicazioni multi-container basate su Docker utilizzando un file YAML. Facilita l'avvio, la gestione e la comunicazione tra i container, semplificando lo sviluppo di ambienti complessi e riproducibili.</p>"
   ]
  },
  {
   "cell_type": "markdown",
   "metadata": {
    "slideshow": {
     "slide_type": "slide"
    }
   },
   "source": [
    "<h2> Sviluppi futuri? </h2>"
   ]
  },
  {
   "cell_type": "markdown",
   "metadata": {
    "slideshow": {
     "slide_type": "slide"
    }
   },
   "source": [
    "<p>\n",
    "    \n",
    "- Usare SentimenTube per i video di uno specifico canale\n",
    "- Includere questo indice nel grado di preferenza\n",
    "- Riuscire a determinare un'emozione\n",
    "    \n",
    "</p>"
   ]
  }
 ],
 "metadata": {
  "celltoolbar": "Slideshow",
  "kernelspec": {
   "display_name": "Python 3 (ipykernel)",
   "language": "python",
   "name": "python3"
  },
  "language_info": {
   "codemirror_mode": {
    "name": "ipython",
    "version": 3
   },
   "file_extension": ".py",
   "mimetype": "text/x-python",
   "name": "python",
   "nbconvert_exporter": "python",
   "pygments_lexer": "ipython3",
   "version": "3.9.13"
  },
  "rise": {
   "autolaunch": true,
   "enable_chalkboard": "true",
   "footer": "<div class=\"tap-footer\"> *** Technologies for advanced programming (TAP) - 2023 ***</div>",
   "header": "<div class=\"tap-header\"></div>",
   "scroll": true,
   "theme": "white"
  }
 },
 "nbformat": 4,
 "nbformat_minor": 4
}
